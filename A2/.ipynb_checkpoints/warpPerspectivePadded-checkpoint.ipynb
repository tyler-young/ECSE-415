{
 "cells": [
  {
   "cell_type": "code",
   "execution_count": null,
   "metadata": {
    "collapsed": true
   },
   "outputs": [],
   "source": [
    "def warpPerspectivePadded(\n",
    "        imgl, H, imgr_shape):\n",
    "    \"\"\"Performs an affine or Euclidean/rigid warp with padding.\n",
    "    Parameters\n",
    "    ----------\n",
    "    imgl : image to be warped i.e. left image\n",
    "    imgr : shape of static image i.e. shape of central image\n",
    "    M : `3x3` Homography matrix.\n",
    "    Returns\n",
    "    -------\n",
    "    src_warped : padded and warped source image\n",
    "    \"\"\"\n",
    "    \n",
    "    src = imgl\n",
    "    dst_shape = imgr_shape\n",
    "    M = H\n",
    "    \n",
    "    # it is enough to find where the corners of the image go to find\n",
    "    # the padding bounds; points in clockwise order from origin\n",
    "    _, src_w = src.shape[:2]\n",
    "    lin_pts = np.array([\n",
    "        [0, src_w],\n",
    "        [0, 0],\n",
    "        [1, 1]])\n",
    "    # transform points\n",
    "    transf_lin_pts = M.dot(lin_pts) #M[:, :2].dot(lin_pts) + M[:, 2].reshape(3, 1)\n",
    "    transf_lin_pts /= transf_lin_pts[-1:,:]\n",
    "    \n",
    "    # find min and max points\n",
    "    min_x = np.floor(np.min(transf_lin_pts)).astype(int)\n",
    "    max_x = np.ceil(np.max(transf_lin_pts)).astype(int)\n",
    "\n",
    "    # add translation to the transformation matrix to shift to positive values\n",
    "    anchor_x = 0\n",
    "    transl_transf = np.eye(3,3)\n",
    "    if min_x < 0:\n",
    "        anchor_x = -min_x\n",
    "        transl_transf[0,2] = anchor_x\n",
    "        \n",
    "    shifted_transf = transl_transf.dot(M)\n",
    "    shifted_transf /= shifted_transf[2,2]\n",
    "\n",
    "    # create padded destination image\n",
    "    dst_h, dst_w,_ = dst_shape\n",
    "    dst_pad_w = anchor_x + max(max_x, dst_w)\n",
    "    src_warped = cv2.warpPerspective(src, shifted_transf, (dst_pad_w, dst_h), borderMode=cv2.BORDER_CONSTANT, borderValue=0)\n",
    "    return src_warped"
   ]
  }
 ],
 "metadata": {
  "kernelspec": {
   "display_name": "Python 3",
   "language": "python",
   "name": "python3"
  },
  "language_info": {
   "codemirror_mode": {
    "name": "ipython",
    "version": 3
   },
   "file_extension": ".py",
   "mimetype": "text/x-python",
   "name": "python",
   "nbconvert_exporter": "python",
   "pygments_lexer": "ipython3",
   "version": "3.7.4"
  }
 },
 "nbformat": 4,
 "nbformat_minor": 2
}
